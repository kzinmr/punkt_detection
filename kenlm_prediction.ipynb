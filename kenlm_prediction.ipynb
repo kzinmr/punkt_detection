{
 "cells": [
  {
   "cell_type": "markdown",
   "metadata": {},
   "source": [
    "# Kneser-Ney smoothingによるn-gram言語モデルを使った句点挿入(生文デモ)\n",
    "##  [KenLM](https://github.com/kpu/kenlm) で学習済みのモデル(*.klm)を読み込み"
   ]
  },
  {
   "cell_type": "code",
   "execution_count": null,
   "metadata": {},
   "outputs": [],
   "source": [
    "import kenlm\n",
    "LM = 'data/3gram.100K.klm'\n",
    "model = kenlm.Model(LM)\n",
    "print('{0}-gram model'.format(model.order))"
   ]
  },
  {
   "cell_type": "markdown",
   "metadata": {},
   "source": [
    "## 入力を分かち書き"
   ]
  },
  {
   "cell_type": "code",
   "execution_count": null,
   "metadata": {},
   "outputs": [],
   "source": [
    "from preprocess import WordDivider\n",
    "\n",
    "def wakati(line):\n",
    "    wd = WordDivider(is_normalize=True)\n",
    "    words = wd.extract_words(line, with_pos=False)\n",
    "    return ' '.join(words)"
   ]
  },
  {
   "cell_type": "markdown",
   "metadata": {},
   "source": [
    "# 句読点挿入モデル\n",
    "## 各位置で句点を挿入する/しないで文全体の尤度比較し、尤度が上がれば句点挿入"
   ]
  },
  {
   "cell_type": "code",
   "execution_count": null,
   "metadata": {},
   "outputs": [],
   "source": [
    "# windowはngramのnにあわせる\n",
    "def punkt_insert(sentence, punkt='。', window=3, debug=False):\n",
    "    words = sentence.split()\n",
    "    pnkt_pos = []\n",
    "    for i in range(len(words)-window+1):\n",
    "        prob = model.score(' '.join(words))\n",
    "        prob_p = model.score(' '.join(words[:i+window] + [punkt] + words[i+window:]))\n",
    "        if prob_p > prob:\n",
    "            if debug:\n",
    "                print(prob_p, prob, words[i:i+window])\n",
    "            pnkt_pos.append(i+window)\n",
    "    return pnkt_pos\n",
    "\n",
    "def punkt_decode(sentence, punkt_pos, punkt='。'):\n",
    "    words = sentence.split()\n",
    "    pnkt_sent = []\n",
    "    for i in range(len(words)):\n",
    "        pnkt_sent.append(words[i])\n",
    "        if i+1 in punkt_pos:\n",
    "            pnkt_sent.append(punkt)\n",
    "    return ' '.join(pnkt_sent)\n",
    "\n",
    "# 句読点付き文から句点挿入位置を抽出\n",
    "def extract_positions(sentence, punkt='。'):\n",
    "    PUNKTS = ['、', '。']\n",
    "    true_positions = []\n",
    "    c_pos = 0\n",
    "    for w in sentence.split(' '):\n",
    "        if w in PUNKTS:\n",
    "            if w == punkt:\n",
    "                true_positions.append(c_pos)\n",
    "        else:\n",
    "            c_pos += 1\n",
    "    return true_positions\n",
    "\n",
    "# 句読点無し文に対する句点挿入位置の予測結果から精度と再現率を計算\n",
    "def prf(punkt_pred, punkt_true):\n",
    "    tp = set.intersection(punkt_pred, punkt_true)      \n",
    "    precision = len(tp) / len(punkt_true) if len(punkt_true) > 0 else 0\n",
    "    recall = len(tp) / len(punkt_pred) if len(punkt_pred) > 0 else 0\n",
    "    fval = 2 / (1/precision + 1/recall) if precision and recall else 0.\n",
    "    return precision, recall, fval"
   ]
  },
  {
   "cell_type": "markdown",
   "metadata": {},
   "source": [
    "## 句読点なし文に句読点を挿入"
   ]
  },
  {
   "cell_type": "code",
   "execution_count": null,
   "metadata": {},
   "outputs": [],
   "source": [
    "sentence_raw = '今日 も いい だ 天気 明日 の 天気 も 晴れ らしい'"
   ]
  },
  {
   "cell_type": "code",
   "execution_count": null,
   "metadata": {},
   "outputs": [],
   "source": [
    "words = wakati(sentence_raw)\n",
    "punkt_position = punkt_insert(words)\n",
    "sentence_pred = punkt_decode(punkt_position)\n",
    "print(sentence_pred)"
   ]
  },
  {
   "cell_type": "markdown",
   "metadata": {},
   "source": [
    "### 句読点付き正解文と比較し、精度・再現率・F値を算出"
   ]
  },
  {
   "cell_type": "code",
   "execution_count": null,
   "metadata": {},
   "outputs": [],
   "source": [
    "sentence_true = '今日 も 、 いい 天気 だ 。 明日 の 天気 も 晴れ らしい 。' \n",
    "p,r,f = prf(extract_positions(sentence_pred), extract_positions(sentence_true))\n",
    "print('Precision:{0:.5g}, Recall:{1:.5g}, F-value:{2:.5g}'.format(p,r,f))"
   ]
  }
 ],
 "metadata": {
  "kernelspec": {
   "display_name": "Python 3",
   "language": "python",
   "name": "python3"
  },
  "language_info": {
   "codemirror_mode": {
    "name": "ipython",
    "version": 3
   },
   "file_extension": ".py",
   "mimetype": "text/x-python",
   "name": "python",
   "nbconvert_exporter": "python",
   "pygments_lexer": "ipython3",
   "version": "3.6.1"
  }
 },
 "nbformat": 4,
 "nbformat_minor": 2
}
